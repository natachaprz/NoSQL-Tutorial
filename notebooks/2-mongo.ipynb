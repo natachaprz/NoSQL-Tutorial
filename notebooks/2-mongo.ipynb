{
 "cells": [
  {
   "cell_type": "markdown",
   "metadata": {},
   "source": [
    "# Mongo tutorial"
   ]
  },
  {
   "cell_type": "markdown",
   "metadata": {},
   "source": [
    "## Prerequisites"
   ]
  },
  {
   "cell_type": "markdown",
   "metadata": {},
   "source": [
    "### Documentation\n",
    "\n",
    "You will find all documentation for :\n",
    "* [Mongo commands](https://docs.mongodb.com/manual/reference/)\n",
    "* [Mongo python client](http://api.mongodb.com/python/current/api/pymongo/mongo_client.html#pymongo.mongo_client.MongoClient)"
   ]
  },
  {
   "cell_type": "markdown",
   "metadata": {},
   "source": [
    "### Import libraries"
   ]
  },
  {
   "cell_type": "code",
   "execution_count": null,
   "metadata": {},
   "outputs": [],
   "source": [
    "!pip install pymongo"
   ]
  },
  {
   "cell_type": "code",
   "execution_count": 2,
   "metadata": {},
   "outputs": [],
   "source": [
    "import datetime\n",
    "from pprint import pprint\n",
    "\n",
    "import pymongo\n",
    "from pymongo import MongoClient"
   ]
  },
  {
   "cell_type": "code",
   "execution_count": 3,
   "metadata": {},
   "outputs": [],
   "source": [
    "client = MongoClient('mongo', 27017)\n",
    "#le nom 'mongo' correspond au nom'image:mongo'du docker-compose.yml"
   ]
  },
  {
   "cell_type": "code",
   "execution_count": 4,
   "metadata": {},
   "outputs": [],
   "source": [
    "# let's work in a test_database\n",
    "db = client.test_database\n",
    "posts = db.posts"
   ]
  },
  {
   "cell_type": "code",
   "execution_count": 5,
   "metadata": {},
   "outputs": [
    {
     "data": {
      "text/plain": [
       "ObjectId('65d61b5c3c32ca4cfe4e9018')"
      ]
     },
     "execution_count": 5,
     "metadata": {},
     "output_type": "execute_result"
    }
   ],
   "source": [
    "post = {\n",
    "    \"author\": \"Mike\",\n",
    "    \"text\": \"My first blog post!\",\n",
    "    \"tags\": [\"mongodb\", \"python\", \"pymongo\"],\n",
    "    \"date\": datetime.datetime.utcnow()\n",
    "}\n",
    "post_id = posts.insert_one(post).inserted_id\n",
    "post_id"
   ]
  },
  {
   "cell_type": "code",
   "execution_count": 6,
   "metadata": {},
   "outputs": [
    {
     "data": {
      "text/plain": [
       "['posts']"
      ]
     },
     "execution_count": 6,
     "metadata": {},
     "output_type": "execute_result"
    }
   ],
   "source": [
    "db.list_collection_names()"
   ]
  },
  {
   "cell_type": "code",
   "execution_count": 8,
   "metadata": {},
   "outputs": [
    {
     "name": "stdout",
     "output_type": "stream",
     "text": [
      "{'_id': ObjectId('65ae65cadaf380c63f33ad66'),\n",
      " 'author': 'Mike',\n",
      " 'date': datetime.datetime(2024, 1, 22, 12, 55, 38, 829000),\n",
      " 'tags': ['mongodb', 'python', 'pymongo'],\n",
      " 'text': 'My first blog post!'}\n"
     ]
    }
   ],
   "source": [
    "pprint(posts.find_one())"
   ]
  },
  {
   "cell_type": "markdown",
   "metadata": {},
   "source": [
    "You can launch a terminal aside, connect to your server with a mongo client and check that the value is present :\n",
    "\n",
    "```bash\n",
    "vagrant@nosql:~$ mongo\n",
    "> show databases;\n",
    "admin          0.000GB\n",
    "config         0.000GB\n",
    "local          0.000GB\n",
    "test_database  0.000GB\n",
    "> use test_database;\n",
    "switched to db test_database\n",
    "> db.posts.find()\n",
    "{ \n",
    "    \"_id\" : ObjectId(\"...\"), \n",
    "    \"author\" : \"Mike\", \n",
    "    \"text\" : \"My first blog post!\", \n",
    "    \"tags\" : [ \"mongodb\", \"python\", \"pymongo\"], \n",
    "    \"date\" : ISODate(\"2019-02-10T11:33:47.883Z\") \n",
    "}\n",
    "```"
   ]
  },
  {
   "cell_type": "code",
   "execution_count": null,
   "metadata": {},
   "outputs": [],
   "source": [
    "#à partir de gitbash, à refaire plus tard"
   ]
  },
  {
   "cell_type": "markdown",
   "metadata": {},
   "source": [
    "## I. Quick start"
   ]
  },
  {
   "cell_type": "markdown",
   "metadata": {},
   "source": [
    "### First steps"
   ]
  },
  {
   "cell_type": "markdown",
   "metadata": {},
   "source": [
    "**Q** : Create a document `{msg: 'hello'}` in the `test` collection with `insert_one()`. Fetch it back to display it. What is the `_id` for ?\n",
    "\n",
    "NB : if the collection doesn't exist yet, MongoDB automatically creates it."
   ]
  },
  {
   "cell_type": "code",
   "execution_count": 9,
   "metadata": {},
   "outputs": [],
   "source": [
    "# let's work in \"test\" database\n",
    "db = client.test\n",
    "posts = db.posts"
   ]
  },
  {
   "cell_type": "code",
   "execution_count": 10,
   "metadata": {},
   "outputs": [],
   "source": [
    "doc = {\n",
    "    \"msg\": 'hello'}"
   ]
  },
  {
   "cell_type": "code",
   "execution_count": 11,
   "metadata": {},
   "outputs": [
    {
     "name": "stdout",
     "output_type": "stream",
     "text": [
      "{'_id': ObjectId('65ae6660daf380c63f33ad68'), 'msg': 'hello'}\n"
     ]
    }
   ],
   "source": [
    "msg = posts.insert_one(doc)\n",
    "pprint(posts.find_one())"
   ]
  },
  {
   "cell_type": "markdown",
   "metadata": {},
   "source": [
    "**Q**: Display the number of documents inside the `test` collection"
   ]
  },
  {
   "cell_type": "code",
   "execution_count": 12,
   "metadata": {},
   "outputs": [
    {
     "name": "stdout",
     "output_type": "stream",
     "text": [
      "2\n"
     ]
    }
   ],
   "source": [
    "pprint(posts.count_documents({}))"
   ]
  },
  {
   "cell_type": "markdown",
   "metadata": {},
   "source": [
    "### Interacting with a database\n",
    "\n",
    "We have 2 `.json` files we want to interact with inside the `data` folder. Let's first dump them into a `MovieLens` database, inside `users` and `movies` collections.\n",
    "\n",
    "For this section, you will need to read a bit on [query operators](https://docs.mongodb.com/manual/reference/operator/query/#query-selectors). Most methods on collections you will use have `filter` as a first parameter, on which you must pass a dictionary of query parameters."
   ]
  },
  {
   "cell_type": "markdown",
   "metadata": {},
   "source": [
    "**Q** : In the `MovieLens` database, load `data/movielens_movies.json` into `movies` and `data/movielens_users.json` into `users`. \n",
    "\n",
    "Use the dedicated shell command for this : `mongoimport --db <some_db> --collection <some_collection> --file <some_file>` "
   ]
  },
  {
   "cell_type": "code",
   "execution_count": null,
   "metadata": {},
   "outputs": [],
   "source": [
    "#Le faire dans le shell anaconda"
   ]
  },
  {
   "cell_type": "code",
   "execution_count": 13,
   "metadata": {},
   "outputs": [
    {
     "name": "stdout",
     "output_type": "stream",
     "text": [
      "Retrieving notices: ...working... done\n",
      "Channels:\n",
      " - anaconda\n",
      " - conda-forge\n",
      "Platform: linux-64\n",
      "Collecting package metadata (repodata.json): done\n",
      "Solving environment: done\n",
      "\n",
      "\n",
      "==> WARNING: A newer version of conda exists. <==\n",
      "    current version: 23.11.0\n",
      "    latest version: 24.1.1\n",
      "\n",
      "Please update conda by running\n",
      "\n",
      "    $ conda update -n base -c conda-forge conda\n",
      "\n",
      "\n",
      "\n",
      "## Package Plan ##\n",
      "\n",
      "  environment location: /opt/conda\n",
      "\n",
      "  added / updated specs:\n",
      "    - mongo-tools\n",
      "\n",
      "\n",
      "The following packages will be downloaded:\n",
      "\n",
      "    package                    |            build\n",
      "    ---------------------------|-----------------\n",
      "    blas-2.121                 |         openblas          14 KB  conda-forge\n",
      "    blas-devel-3.9.0           |21_linux64_openblas          14 KB  conda-forge\n",
      "    libblas-3.9.0              |21_linux64_openblas          14 KB  conda-forge\n",
      "    libcblas-3.9.0             |21_linux64_openblas          14 KB  conda-forge\n",
      "    liblapack-3.9.0            |21_linux64_openblas          14 KB  conda-forge\n",
      "    liblapacke-3.9.0           |21_linux64_openblas          14 KB  conda-forge\n",
      "    libopenblas-0.3.26         |pthreads_h413a1c8_0         5.3 MB  conda-forge\n",
      "    openblas-0.3.26            |pthreads_h7a3da1a_0         5.5 MB  conda-forge\n",
      "    ------------------------------------------------------------\n",
      "                                           Total:        10.9 MB\n",
      "\n",
      "The following packages will be UPDATED:\n",
      "\n",
      "  blas                                       2.120-openblas --> 2.121-openblas \n",
      "  blas-devel                      3.9.0-20_linux64_openblas --> 3.9.0-21_linux64_openblas \n",
      "  libblas                         3.9.0-20_linux64_openblas --> 3.9.0-21_linux64_openblas \n",
      "  libcblas                        3.9.0-20_linux64_openblas --> 3.9.0-21_linux64_openblas \n",
      "  liblapack                       3.9.0-20_linux64_openblas --> 3.9.0-21_linux64_openblas \n",
      "  liblapacke                      3.9.0-20_linux64_openblas --> 3.9.0-21_linux64_openblas \n",
      "  libopenblas                    0.3.25-pthreads_h413a1c8_0 --> 0.3.26-pthreads_h413a1c8_0 \n",
      "  openblas                       0.3.25-pthreads_h7a3da1a_0 --> 0.3.26-pthreads_h7a3da1a_0 \n",
      "\n",
      "\n",
      "\n",
      "Downloading and Extracting Packages:\n",
      "openblas-0.3.26      | 5.5 MB    |                                       |   0% \n",
      "libopenblas-0.3.26   | 5.3 MB    |                                       |   0% \u001b[A\n",
      "\n",
      "blas-2.121           | 14 KB     |                                       |   0% \u001b[A\u001b[A\n",
      "\n",
      "\n",
      "libblas-3.9.0        | 14 KB     |                                       |   0% \u001b[A\u001b[A\u001b[A\n",
      "\n",
      "\n",
      "\n",
      "libcblas-3.9.0       | 14 KB     |                                       |   0% \u001b[A\u001b[A\u001b[A\u001b[A\n",
      "\n",
      "\n",
      "\n",
      "\n",
      "liblapacke-3.9.0     | 14 KB     |                                       |   0% \u001b[A\u001b[A\u001b[A\u001b[A\u001b[A\n",
      "\n",
      "\n",
      "\n",
      "\n",
      "\n",
      "liblapack-3.9.0      | 14 KB     |                                       |   0% \u001b[A\u001b[A\u001b[A\u001b[A\u001b[A\u001b[A\n",
      "\n",
      "\n",
      "\n",
      "\n",
      "\n",
      "\n",
      "blas-devel-3.9.0     | 14 KB     |                                       |   0% \u001b[A\u001b[A\u001b[A\u001b[A\u001b[A\u001b[A\u001b[A\n",
      "\n",
      "\n",
      "\n",
      "libcblas-3.9.0       | 14 KB     | ##################################### | 100% \u001b[A\u001b[A\u001b[A\u001b[A\n",
      "\n",
      "blas-2.121           | 14 KB     | ##################################### | 100% \u001b[A\u001b[A\n",
      "libopenblas-0.3.26   | 5.3 MB    | 1                                     |   0% \u001b[A\n",
      "\n",
      "\n",
      "openblas-0.3.26      | 5.5 MB    | 1                                     |   0% \u001b[A\u001b[A\u001b[A\n",
      "\n",
      "\n",
      "\n",
      "\n",
      "liblapacke-3.9.0     | 14 KB     | ##################################### | 100% \u001b[A\u001b[A\u001b[A\u001b[A\u001b[A\n",
      "\n",
      "\n",
      "\n",
      "\n",
      "\n",
      "liblapack-3.9.0      | 14 KB     | ##################################### | 100% \u001b[A\u001b[A\u001b[A\u001b[A\u001b[A\u001b[A\n",
      "libopenblas-0.3.26   | 5.3 MB    | ########8                             |  24% \u001b[A\n",
      "\n",
      "\n",
      "\n",
      "\n",
      "\n",
      "\n",
      "openblas-0.3.26      | 5.5 MB    | #######6                              |  21% \u001b[A\u001b[A\u001b[A\u001b[A\u001b[A\u001b[A\u001b[A\n",
      "\n",
      "blas-2.121           | 14 KB     | ##################################### | 100% \u001b[A\u001b[A\n",
      "\n",
      "\n",
      "\n",
      "libcblas-3.9.0       | 14 KB     | ##################################### | 100% \u001b[A\u001b[A\u001b[A\u001b[A\n",
      "\n",
      "\n",
      "libblas-3.9.0        | 14 KB     | ##################################### | 100% \u001b[A\u001b[A\u001b[A\n",
      "openblas-0.3.26      | 5.5 MB    | #################                     |  46% \u001b[A\n",
      "\n",
      "\n",
      "\n",
      "\n",
      "\n",
      "liblapack-3.9.0      | 14 KB     | ##################################### | 100% \u001b[A\u001b[A\u001b[A\u001b[A\u001b[A\u001b[A\n",
      "\n",
      "\n",
      "\n",
      "\n",
      "\n",
      "\n",
      "blas-devel-3.9.0     | 14 KB     | ##################################### | 100% \u001b[A\u001b[A\u001b[A\u001b[A\u001b[A\u001b[A\u001b[A\n",
      "\n",
      "\n",
      "\n",
      "\n",
      "liblapacke-3.9.0     | 14 KB     | ##################################### | 100% \u001b[A\u001b[A\u001b[A\u001b[A\u001b[A\n",
      "openblas-0.3.26      | 5.5 MB    | #################################9    |  92% \u001b[A\n",
      "                                                                                \u001b[A\n",
      "                                                                                \u001b[A\n",
      "\n",
      "                                                                                \u001b[A\u001b[A\n",
      "\n",
      "\n",
      "                                                                                \u001b[A\u001b[A\u001b[A\n",
      "\n",
      "\n",
      "\n",
      "                                                                                \u001b[A\u001b[A\u001b[A\u001b[A\n",
      "\n",
      "\n",
      "\n",
      "\n",
      "                                                                                \u001b[A\u001b[A\u001b[A\u001b[A\u001b[A\n",
      "\n",
      "\n",
      "\n",
      "\n",
      "\n",
      "                                                                                \u001b[A\u001b[A\u001b[A\u001b[A\u001b[A\u001b[A\n",
      "\n",
      "\n",
      "\n",
      "\n",
      "\n",
      "\n",
      "                                                                                \u001b[A\u001b[A\u001b[A\u001b[A\u001b[A\u001b[A\u001b[A\n",
      "Preparing transaction: done\n",
      "Verifying transaction: done\n",
      "Executing transaction: done\n"
     ]
    }
   ],
   "source": [
    "!conda install -c anaconda mongo-tools -y"
   ]
  },
  {
   "cell_type": "code",
   "execution_count": null,
   "metadata": {},
   "outputs": [],
   "source": [
    "!mongoimport --db MovieLens --collection users --file data/movielens_users.json --host mongo --port 27017"
   ]
  },
  {
   "cell_type": "code",
   "execution_count": null,
   "metadata": {},
   "outputs": [],
   "source": [
    "!mongoimport --db MovieLens --collection movies --file data/movielens_movies.json --host mongo --port 27017"
   ]
  },
  {
   "cell_type": "markdown",
   "metadata": {},
   "source": [
    "**Q** : how many users are in the `MovieLens` database ?"
   ]
  },
  {
   "cell_type": "code",
   "execution_count": 17,
   "metadata": {},
   "outputs": [
    {
     "name": "stdout",
     "output_type": "stream",
     "text": [
      "6040\n"
     ]
    }
   ],
   "source": [
    "db=client.MovieLens\n",
    "user_collection=db.users\n",
    "pprint(user_collection.count_documents({}))"
   ]
  },
  {
   "cell_type": "markdown",
   "metadata": {
    "jupyter": {
     "source_hidden": true
    }
   },
   "source": [
    "**Q** : Display all comedies (the `genres` property equals `Comedy`). \n",
    "\n",
    "NB : You will need to find how to go through a `command_cursor`, then use the `pprint` function for a better display of those documents."
   ]
  },
  {
   "cell_type": "code",
   "execution_count": null,
   "metadata": {},
   "outputs": [],
   "source": [
    "db=client.MovieLens\n",
    "movies_collection=db.movies\n",
    "\n",
    "comedy_movies_cursor = movies_collection.find({\"genres\": \"Comedy\"})\n",
    "\n",
    "# Display the comedies using pprint\n",
    "for comedy_movie in comedy_movies_cursor:\n",
    "    pprint(comedy_movie)\n"
   ]
  },
  {
   "cell_type": "markdown",
   "metadata": {},
   "source": [
    "**Q** : Fetch and display the `name` and `occupation` for Clifford Johnathan. The second paramater for `find()` ([doc here](https://api.mongodb.com/python/current/api/pymongo/collection.html#pymongo.collection.Collection.find)) is called the `projection` and is used to limit which data to fetch from the query."
   ]
  },
  {
   "cell_type": "code",
   "execution_count": 19,
   "metadata": {},
   "outputs": [
    {
     "name": "stdout",
     "output_type": "stream",
     "text": [
      "{'name': 'Clifford Johnathan', 'occupation': 'technician/engineer'}\n"
     ]
    }
   ],
   "source": [
    "name_occupation_cursor = user_collection.find({\"name\": \"Clifford Johnathan\"}, {\"occupation\":1, \"name\":1, \"_id\":0})\n",
    "for name_occupation in name_occupation_cursor:\n",
    "    pprint(name_occupation)"
   ]
  },
  {
   "cell_type": "markdown",
   "metadata": {},
   "source": [
    "**Q**: How many minors (by `age`) have rated movies ?"
   ]
  },
  {
   "cell_type": "code",
   "execution_count": 28,
   "metadata": {},
   "outputs": [
    {
     "name": "stdout",
     "output_type": "stream",
     "text": [
      "{373}\n"
     ]
    }
   ],
   "source": [
    "number_minors= user_collection.count_documents({\"age\": {\"$lte\":18}})\n",
    "pprint({number_minors})"
   ]
  },
  {
   "cell_type": "code",
   "execution_count": 30,
   "metadata": {},
   "outputs": [],
   "source": [
    "import re"
   ]
  },
  {
   "cell_type": "markdown",
   "metadata": {},
   "source": [
    "**Q**: Display science fiction movies ('Sci-Fi') and suspense movies ('Thriller'). This time you need to use a regex to parse genres and look for those values."
   ]
  },
  {
   "cell_type": "code",
   "execution_count": null,
   "metadata": {},
   "outputs": [],
   "source": [
    "genres=re.compile(r'Sci-Fi|Thriller', re.IGNORECASE)\n",
    "resultat= movies_collection.find({\"genres\": {\"$regex\": genres}})\n",
    "\n",
    "for movie in resultat:\n",
    "    print(movie)"
   ]
  },
  {
   "cell_type": "markdown",
   "metadata": {},
   "source": [
    "**Q**: If we want more advanced textual search, we need a particular index. Use the `create_index()` method to index as [TEXT](https://docs.mongodb.com/manual/core/index-text/) the `genres` field of the `movies` collection."
   ]
  },
  {
   "cell_type": "code",
   "execution_count": null,
   "metadata": {},
   "outputs": [],
   "source": [
    "movies_collection.create_index([(\"genres\", \"text\")])\n",
    "resultat=movies_collection.find({\"$text\": {\"$search\": \"Sci-Fi Thriller\"}})\n",
    "for movie in resultat:\n",
    "    print(movie)"
   ]
  },
  {
   "cell_type": "markdown",
   "metadata": {},
   "source": [
    "**Q**: Restart the search for science fiction and thriller movies with the operator `$text`"
   ]
  },
  {
   "cell_type": "code",
   "execution_count": null,
   "metadata": {},
   "outputs": [],
   "source": []
  },
  {
   "cell_type": "markdown",
   "metadata": {},
   "source": [
    "**Q**: Display the first 30 movies (`limit`) in alphabetical order (`sort`) by title"
   ]
  },
  {
   "cell_type": "code",
   "execution_count": null,
   "metadata": {},
   "outputs": [],
   "source": [
    "resultat=movies_collection.find().limit(30).sort(\"title\",1)\n",
    "for movie in resultat:\n",
    "    print(movie)"
   ]
  },
  {
   "cell_type": "markdown",
   "metadata": {},
   "source": [
    "**Q**: How many users have seen the movie \"Star Wars: Episode V - The Empire Strikes Back (1980)\" (`_id 1196`) ? The `movies` argument is an array so we should try the [elemMatch](https://docs.mongodb.com/manual/reference/operator/projection/elemMatch/) operator here."
   ]
  },
  {
   "cell_type": "code",
   "execution_count": 43,
   "metadata": {},
   "outputs": [
    {
     "name": "stdout",
     "output_type": "stream",
     "text": [
      "{2990}\n"
     ]
    }
   ],
   "source": [
    "resultat=user_collection.count_documents({\"movies\": {'$elemMatch': {\"movieid\": 1196}}})\n",
    "pprint({resultat})"
   ]
  },
  {
   "cell_type": "markdown",
   "metadata": {},
   "source": [
    "**Q**: And how many gave it a rating of 1 or 2 ?"
   ]
  },
  {
   "cell_type": "code",
   "execution_count": 47,
   "metadata": {},
   "outputs": [
    {
     "name": "stdout",
     "output_type": "stream",
     "text": [
      "{105}\n"
     ]
    }
   ],
   "source": [
    "resultat=user_collection.count_documents({\"movies\": {'$elemMatch': {\"movieid\": 1196, \"rating\": {\"$gte\":1, \"$lte\":2}}}})\n",
    "pprint({resultat})"
   ]
  },
  {
   "cell_type": "markdown",
   "metadata": {},
   "source": [
    "### Updating data"
   ]
  },
  {
   "cell_type": "markdown",
   "metadata": {},
   "source": [
    "**Q**: Insert a new user with the properties `name`, `gender` ('M' or'F'), `occupation` and `age`, using the `insert_one()` command. Display it with `find_one()`."
   ]
  },
  {
   "cell_type": "code",
   "execution_count": 55,
   "metadata": {},
   "outputs": [
    {
     "name": "stdout",
     "output_type": "stream",
     "text": [
      "{'_id': ObjectId('65ae77aedaf380c63f33ad6c'),\n",
      " 'age': '22',\n",
      " 'gender': 'M',\n",
      " 'name': 'Hugo',\n",
      " 'occupation': 'Eating'}\n"
     ]
    }
   ],
   "source": [
    "doc = {\"name\": 'Hugo',\n",
    "       \"gender\": \"M\",\n",
    "       \"occupation\": \"Eating\",\n",
    "    \"age\": '22'}\n",
    "hugo_id=user_collection.insert_one(doc).inserted_id\n",
    "hugo_document = user_collection.find_one({\"_id\": hugo_id})\n",
    "pprint(hugo_document)"
   ]
  },
  {
   "cell_type": "markdown",
   "metadata": {},
   "source": [
    "**Q**: Add an appreciation on a viewed movie with `update_one()`, add the movies property containing a table with a document (`movieid`, `rating`, `timestamp` with the value `datetime.datetime.utcnow()`).\n",
    "\n",
    "You will need to read the documentation on [update operators](https://docs.mongodb.org/manual/reference/operator/update/)."
   ]
  },
  {
   "cell_type": "code",
   "execution_count": 59,
   "metadata": {},
   "outputs": [],
   "source": [
    "from datetime import datetime\n",
    "from bson import ObjectId"
   ]
  },
  {
   "cell_type": "code",
   "execution_count": 62,
   "metadata": {},
   "outputs": [
    {
     "name": "stdout",
     "output_type": "stream",
     "text": [
      "Appreciation added successfully!\n"
     ]
    }
   ],
   "source": [
    "user_name= \"Natacha\"\n",
    "# The movie information to be added\n",
    "movie_info = {\"movieid\": 1196, \"rating\": 4, \"timestamp\": datetime.utcnow()}\n",
    "\n",
    "# Use update_one to add the movie information to the \"movies\" property\n",
    "user_collection.update_one(\n",
    "    {\"name\": user_name},\n",
    "    {\n",
    "        \"$push\": {\"movies\": movie_info}\n",
    "    }\n",
    ")\n",
    "\n",
    "print(\"Appreciation added successfully!\")"
   ]
  },
  {
   "cell_type": "markdown",
   "metadata": {},
   "source": [
    "**Q**: Find the number of users who have declared a `programmer` occupation. Modify them so that they are `developer`. Verify your update."
   ]
  },
  {
   "cell_type": "code",
   "execution_count": 63,
   "metadata": {},
   "outputs": [
    {
     "name": "stdout",
     "output_type": "stream",
     "text": [
      "Number of users with occupation 'programmer': 388\n"
     ]
    },
    {
     "data": {
      "text/plain": [
       "UpdateResult({'n': 388, 'nModified': 388, 'ok': 1.0, 'updatedExisting': True}, acknowledged=True)"
      ]
     },
     "execution_count": 63,
     "metadata": {},
     "output_type": "execute_result"
    }
   ],
   "source": [
    "programmer_count = user_collection.count_documents({\"occupation\": \"programmer\"})\n",
    "\n",
    "print(f\"Number of users with occupation 'programmer': {programmer_count}\")\n",
    "\n",
    "user_collection.update_many(\n",
    "    {\"occupation\": \"programmer\"},\n",
    "    {\"$set\": {\"occupation\": \"developer\"}}\n",
    ")"
   ]
  },
  {
   "cell_type": "code",
   "execution_count": 67,
   "metadata": {},
   "outputs": [
    {
     "name": "stdout",
     "output_type": "stream",
     "text": [
      "388\n"
     ]
    }
   ],
   "source": [
    "# Verifier\n",
    "updated_users = user_collection.count_documents({\"occupation\": \"developer\"})\n",
    "print(updated_users)"
   ]
  },
  {
   "cell_type": "markdown",
   "metadata": {},
   "source": [
    "## II. Modelling a blog\n",
    "\n",
    "We will now model a blog using Mongo. \n",
    "\n",
    "First, switch to a new `Blog` database. Each blog post will have the following arguments:\n",
    "\n",
    "* The author (author field, string type)\n",
    "* The date (date field, string type in YYYY-MM-DD format)\n",
    "* The content (field content)\n",
    "* Tags (field tags, a string array)\n",
    "* A list of comments (field comments) containing:\n",
    " * The author (author field, string type)\n",
    " * The date (date field, string type in YYYY-MM-DD format)\n",
    " * The content (field content)\n"
   ]
  },
  {
   "cell_type": "markdown",
   "metadata": {},
   "source": [
    "**Q**: Create a first post by `rick`, on January 15th, with the tags `mongodb` and `nosql`."
   ]
  },
  {
   "cell_type": "code",
   "execution_count": 15,
   "metadata": {},
   "outputs": [],
   "source": [
    "db = client.blog_Natacha\n",
    "posts = db.posts"
   ]
  },
  {
   "cell_type": "code",
   "execution_count": 16,
   "metadata": {},
   "outputs": [],
   "source": [
    "from datetime import datetime"
   ]
  },
  {
   "cell_type": "code",
   "execution_count": 17,
   "metadata": {},
   "outputs": [
    {
     "data": {
      "text/plain": [
       "ObjectId('65faf8e7fdd02ac710c2b7d1')"
      ]
     },
     "execution_count": 17,
     "metadata": {},
     "output_type": "execute_result"
    }
   ],
   "source": [
    "post = {\n",
    "    \"author\": \"Rick\",\n",
    "    \"date\": datetime(2024,1,15),\n",
    "    \"content\": \"Enjoy my first post\",\n",
    "    \"tags\": [\"mongodb\",\"nosql\"],\n",
    "    \"comments\":[\n",
    "        {\"author\": \"Youness\",\n",
    "        \"date\": datetime(2024,1,16),\n",
    "        \"content\": \"great Work, thanks!\",\n",
    "        }\n",
    "    ]\n",
    "}\n",
    "post_id = posts.insert_one(post).inserted_id\n",
    "post_id"
   ]
  },
  {
   "cell_type": "markdown",
   "metadata": {},
   "source": [
    "**Q**: Create a second post by `kate`, on January 21, with the tag `nosql` and a comment from `rick` on the same day."
   ]
  },
  {
   "cell_type": "code",
   "execution_count": 18,
   "metadata": {},
   "outputs": [
    {
     "data": {
      "text/plain": [
       "ObjectId('65faf90cfdd02ac710c2b7d2')"
      ]
     },
     "execution_count": 18,
     "metadata": {},
     "output_type": "execute_result"
    }
   ],
   "source": [
    "post2 = {\n",
    "    \"author\": \"Kate\",\n",
    "    \"date\": datetime(2024,1,21),\n",
    "    \"content\": \"This is a post\",\n",
    "    \"tags\": [\"nosql\"],\n",
    "    \"comments\":[\n",
    "        {\"author\": \"Rick\",\n",
    "        \"date\": datetime(2024,1,21),\n",
    "        \"content\": \"Great work Kate, let's have a look on my previous post!\",\n",
    "        }\n",
    "    ]\n",
    "}\n",
    "post2_id = posts.insert_one(post2).inserted_id\n",
    "post2_id"
   ]
  },
  {
   "cell_type": "markdown",
   "metadata": {},
   "source": [
    "**Q**: Display the author of the last post with the tag `nosql`"
   ]
  },
  {
   "cell_type": "code",
   "execution_count": 19,
   "metadata": {},
   "outputs": [
    {
     "name": "stdout",
     "output_type": "stream",
     "text": [
      "The author of the last post with the tag 'nosql' is: Kate\n"
     ]
    }
   ],
   "source": [
    "last_nosql_post = posts.find_one({\"tags\": \"nosql\"}, sort=[(\"date\", -1)])\n",
    "\n",
    "if last_nosql_post:\n",
    "    author = last_nosql_post[\"author\"]\n",
    "    print(f\"The author of the last post with the tag 'nosql' is: {author}\")\n",
    "else:\n",
    "    print(\"Tu as oublié de mettre un tag nosql.\")"
   ]
  },
  {
   "cell_type": "markdown",
   "metadata": {},
   "source": [
    "**Q**: Add a comment by `jack` on January 25, to `kate`'s post"
   ]
  },
  {
   "cell_type": "code",
   "execution_count": 20,
   "metadata": {},
   "outputs": [
    {
     "data": {
      "text/plain": [
       "UpdateResult({'n': 1, 'nModified': 1, 'ok': 1.0, 'updatedExisting': True}, acknowledged=True)"
      ]
     },
     "execution_count": 20,
     "metadata": {},
     "output_type": "execute_result"
    }
   ],
   "source": [
    "kate_post = posts.find_one({\"author\": \"Kate\"})\n",
    "\n",
    "new_comment = {\n",
    "        \"author\": \"Jack\",\n",
    "        \"date\": datetime(2024, 1, 25),\n",
    "        \"content\": \"This is a new comment by Jack in response to kate's post.\"\n",
    "}\n",
    "    \n",
    "# Add the new comment to Kate's post\n",
    "kate_post['comments'].append(new_comment)\n",
    "    \n",
    "# Update Kate's post in the collection\n",
    "posts.update_one({\"_id\": kate_post[\"_id\"]}, {\"$set\": {\"comments\": kate_post[\"comments\"]}})"
   ]
  },
  {
   "cell_type": "markdown",
   "metadata": {},
   "source": [
    "**Q**: Display all comments by `kate`"
   ]
  },
  {
   "cell_type": "code",
   "execution_count": 14,
   "metadata": {},
   "outputs": [
    {
     "name": "stdout",
     "output_type": "stream",
     "text": [
      "Commentaires de Kate :\n"
     ]
    }
   ],
   "source": [
    "kate_comments = posts.find({\"comments.author\": \"Kate\"})\n",
    "\n",
    "# Afficher les commentaires de Kate\n",
    "print(\"Commentaires de Kate :\")\n",
    "for post in kate_comments:\n",
    "    for comment in post[\"comments\"]:\n",
    "        if comment[\"author\"] == \"Kate\":\n",
    "            print(\"Auteur :\", comment[\"author\"])\n",
    "            print(\"Contenu :\", comment[\"content\"])\n",
    "            print(\"Date :\", comment[\"date\"])\n",
    "            print(\"----------------------\")"
   ]
  },
  {
   "cell_type": "code",
   "execution_count": null,
   "metadata": {},
   "outputs": [],
   "source": [
    "#C'est normal qu'il n'y en ai pas, Kate a fait un post et n'a pas écrit de commentaire"
   ]
  },
  {
   "cell_type": "markdown",
   "metadata": {},
   "source": [
    "## Postquisites"
   ]
  },
  {
   "cell_type": "code",
   "execution_count": null,
   "metadata": {},
   "outputs": [],
   "source": [
    "!mongo test_database --eval 'db.dropDatabase()'"
   ]
  },
  {
   "cell_type": "code",
   "execution_count": null,
   "metadata": {},
   "outputs": [],
   "source": [
    "!mongo MovieLens --eval 'db.dropDatabase()'"
   ]
  },
  {
   "cell_type": "code",
   "execution_count": null,
   "metadata": {},
   "outputs": [],
   "source": [
    "!mongo Blog --eval 'db.dropDatabase()'"
   ]
  }
 ],
 "metadata": {
  "kernelspec": {
   "display_name": "Python 3 (ipykernel)",
   "language": "python",
   "name": "python3"
  },
  "language_info": {
   "codemirror_mode": {
    "name": "ipython",
    "version": 3
   },
   "file_extension": ".py",
   "mimetype": "text/x-python",
   "name": "python",
   "nbconvert_exporter": "python",
   "pygments_lexer": "ipython3",
   "version": "3.11.8"
  }
 },
 "nbformat": 4,
 "nbformat_minor": 4
}
